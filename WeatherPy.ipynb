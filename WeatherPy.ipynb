{
 "cells": [
  {
   "cell_type": "code",
   "execution_count": 1,
   "metadata": {},
   "outputs": [
    {
     "name": "stdout",
     "output_type": "stream",
     "text": [
      "tainan\n",
      "tw\n"
     ]
    }
   ],
   "source": [
    "from citipy import citipy\n",
    "import csv\n",
    "import kdtree\n",
    "import os\n",
    "import random\n",
    "import pandas as pd\n",
    "import numpy as np\n",
    "import requests\n",
    "import json\n",
    "import matplotlib.pyplot as plt\n",
    "import openweathermapy as ow\n",
    "\n",
    "#test that citpy library is working\n",
    "city = citipy.nearest_city(22.99, 120.21)\n",
    "city\n",
    "\n",
    "print(city.city_name)     # Tainan, my home town\n",
    "\n",
    "print(city.country_code)   # And the country is surely Taiwan"
   ]
  },
  {
   "cell_type": "code",
   "execution_count": 2,
   "metadata": {},
   "outputs": [],
   "source": [
    "#use numpy random unifrom function to get evently spaced latitudes and longitudes (-90 to 90, -180 to 180)\n",
    "#populate one list for lat, one for long\n",
    "lat_list = np.random.uniform(-90, 90, 10)\n",
    "lon_list = np.random.uniform(-180, 180, 10)\n",
    "\n",
    "#print(lat_list)\n",
    "#print(lon_list)\n"
   ]
  },
  {
   "cell_type": "code",
   "execution_count": 3,
   "metadata": {},
   "outputs": [],
   "source": [
    "#use citipy to generate cities and country code for those lists\n",
    "city_list = []\n",
    "country_list = []\n",
    "\n",
    "for (lat, lon) in zip(lat_list, lon_list):\n",
    "    \n",
    "    city = citipy.nearest_city(lat, lon)\n",
    "  \n",
    "    city_list.append(city.city_name)\n",
    "    country_list.append(city.country_code)\n",
    "    \n",
    "#print(city_list)\n",
    "#print(country_list)"
   ]
  },
  {
   "cell_type": "code",
   "execution_count": 4,
   "metadata": {},
   "outputs": [
    {
     "data": {
      "text/html": [
       "<div>\n",
       "<style>\n",
       "    .dataframe thead tr:only-child th {\n",
       "        text-align: right;\n",
       "    }\n",
       "\n",
       "    .dataframe thead th {\n",
       "        text-align: left;\n",
       "    }\n",
       "\n",
       "    .dataframe tbody tr th {\n",
       "        vertical-align: top;\n",
       "    }\n",
       "</style>\n",
       "<table border=\"1\" class=\"dataframe\">\n",
       "  <thead>\n",
       "    <tr style=\"text-align: right;\">\n",
       "      <th></th>\n",
       "      <th>Input Latitude</th>\n",
       "      <th>Input Longitude</th>\n",
       "      <th>City</th>\n",
       "      <th>Country Code</th>\n",
       "    </tr>\n",
       "  </thead>\n",
       "  <tbody>\n",
       "    <tr>\n",
       "      <th>0</th>\n",
       "      <td>17.58066853094401</td>\n",
       "      <td>97.73423345519751</td>\n",
       "      <td>thaton</td>\n",
       "      <td>mm</td>\n",
       "    </tr>\n",
       "    <tr>\n",
       "      <th>1</th>\n",
       "      <td>37.830690332858765</td>\n",
       "      <td>43.870081964766115</td>\n",
       "      <td>hakkari</td>\n",
       "      <td>tr</td>\n",
       "    </tr>\n",
       "    <tr>\n",
       "      <th>2</th>\n",
       "      <td>47.65968041020457</td>\n",
       "      <td>-159.2768436540601</td>\n",
       "      <td>kodiak</td>\n",
       "      <td>us</td>\n",
       "    </tr>\n",
       "    <tr>\n",
       "      <th>3</th>\n",
       "      <td>-16.715156306423538</td>\n",
       "      <td>118.28873557333901</td>\n",
       "      <td>port hedland</td>\n",
       "      <td>au</td>\n",
       "    </tr>\n",
       "    <tr>\n",
       "      <th>4</th>\n",
       "      <td>-73.84453495010011</td>\n",
       "      <td>53.773002402804224</td>\n",
       "      <td>east london</td>\n",
       "      <td>za</td>\n",
       "    </tr>\n",
       "  </tbody>\n",
       "</table>\n",
       "</div>"
      ],
      "text/plain": [
       "        Input Latitude     Input Longitude          City Country Code\n",
       "0    17.58066853094401   97.73423345519751        thaton           mm\n",
       "1   37.830690332858765  43.870081964766115       hakkari           tr\n",
       "2    47.65968041020457  -159.2768436540601        kodiak           us\n",
       "3  -16.715156306423538  118.28873557333901  port hedland           au\n",
       "4   -73.84453495010011  53.773002402804224   east london           za"
      ]
     },
     "execution_count": 4,
     "metadata": {},
     "output_type": "execute_result"
    }
   ],
   "source": [
    "#turn that into a dataframe\n",
    "cities_df = pd.DataFrame(np.column_stack([lat_list, lon_list, city_list, country_list]), \n",
    "                               columns=['Input Latitude', 'Input Longitude', 'City', 'Country Code'])\n",
    "cities_df.head()"
   ]
  },
  {
   "cell_type": "code",
   "execution_count": 5,
   "metadata": {},
   "outputs": [
    {
     "name": "stdout",
     "output_type": "stream",
     "text": [
      "           City Country Code\n",
      "0        thaton           mm\n",
      "1       hakkari           tr\n",
      "2        kodiak           us\n",
      "3  port hedland           au\n",
      "4   east london           za\n",
      "5   yellowknife           ca\n",
      "6         vaini           to\n",
      "7       husavik           is\n",
      "8   provideniya           ru\n",
      "9        bethel           us\n"
     ]
    }
   ],
   "source": [
    "#take the inputs out of df so we have a clean df to send to csv\n",
    "reduced_cities_df = cities_df[['City', 'Country Code']]\n",
    "print(reduced_cities_df)"
   ]
  },
  {
   "cell_type": "code",
   "execution_count": 6,
   "metadata": {
    "collapsed": true
   },
   "outputs": [],
   "source": [
    "#turn it into a csv inorder to hit the openweather api, loop through \n",
    "reduced_cities_df.to_csv(\"Output/cities.csv\", encoding=\"utf-8\", index=False, header=False)"
   ]
  },
  {
   "cell_type": "code",
   "execution_count": 7,
   "metadata": {
    "collapsed": true
   },
   "outputs": [],
   "source": [
    "# Create a settings object with your API key and preferred units\n",
    "#api_key = \"85e7df885565606034ad67f99611b82f\"\n",
    "\n",
    "#settings = {\"units\": \"imperial\", \"appid\": api_key}\n",
    "\n",
    "#cities = []\n",
    "#real_lat = []\n",
    "#real_lon = []\n",
    "#temp = []\n",
    "#hum = []\n",
    "#cloud = []\n",
    "#wind = []"
   ]
  },
  {
   "cell_type": "code",
   "execution_count": 8,
   "metadata": {},
   "outputs": [],
   "source": [
    "# Get data for each city in cities.csv\n",
    "#with open(\"output/cities.csv\") as cityfile:\n",
    "    #cityData = csv.reader(cityfile)\n",
    "    #for city in cityData:\n",
    "        #cities.append(city[0])\n",
    "\n",
    "#print(cities)    \n",
    "    \n",
    "#for city in cities:\n",
    "    #weather_data = ow.get_current(city, **settings)\n",
    "    #real_lat.append(weather_data[\"coord\"][\"lat\"])\n",
    "    #real_lon.append(weather_data[\"coord\"][\"lon\"])\n",
    "    #temp.append(weather_data[\"main\"][\"temp\"])\n",
    "    #hum.append(weather_data[\"main\"][\"humidity\"])\n",
    "    #cloud.append(weather_data[\"clouds\"][\"all\"])\n",
    "    #wind.append(weather_data[\"wind\"][\"speed\"])\n",
    "\n",
    "#print(real_lat)\n",
    "#print(real_lon)\n",
    "#print(temp)\n",
    "#print(hum)\n",
    "#print(cloud)\n",
    "#print(wind)\n",
    "\n"
   ]
  },
  {
   "cell_type": "code",
   "execution_count": 9,
   "metadata": {
    "collapsed": true
   },
   "outputs": [],
   "source": [
    "#api.openweathermap.org/data/2.5/weather?q={city name},{country code}\n",
    "# Save config information.\n",
    "url = \"http://api.openweathermap.org/data/2.5/weather?\"\n",
    "units = \"imperial\"\n",
    "api_key = \"85e7df885565606034ad67f99611b82f\"\n",
    "\n",
    "\n",
    "# Build partial query URL\n",
    "query_url = f\"{url}appid={api_key}&units={units}&q=\"\n",
    "\n"
   ]
  },
  {
   "cell_type": "code",
   "execution_count": 10,
   "metadata": {},
   "outputs": [],
   "source": [
    "# Pretty print the json for a test country to see the response data\n",
    "#response = requests.get(query_url + \"saint george\" + \",\" + \"bm\")\n",
    "#print(json.dumps(response, indent=4, sort_keys=True))"
   ]
  },
  {
   "cell_type": "code",
   "execution_count": 11,
   "metadata": {},
   "outputs": [],
   "source": [
    "# set up lists to hold reponse info\n",
    "real_lat = []\n",
    "real_lon = []\n",
    "temp = []\n",
    "hum = []\n",
    "cloud = []\n",
    "wind = []\n",
    "\n",
    "# Loop through the list of cities and perform a request for data on each\n",
    "# Sometimes getting an error for the coord of a city, so incorporate a try-except to skip any that \n",
    "#are missing a data point.\n",
    "#try:\n",
    "\n",
    "for (city, country) in zip(city_list, country_list):\n",
    "    city_data = requests.get(query_url + city).json()\n",
    "    real_lat.append(city_data[\"coord\"][\"lat\"])\n",
    "    real_lon.append(city_data[\"coord\"][\"lon\"])\n",
    "    temp.append(city_data[\"main\"][\"temp\"])\n",
    "    hum.append(city_data[\"main\"][\"humidity\"])\n",
    "    cloud.append(city_data[\"clouds\"][\"all\"])\n",
    "    wind.append(city_data[\"wind\"][\"speed\"])\n",
    "#except (KeyError, ValueError):\n",
    "        #real_lat.append(\"NaN\")\n",
    "        #real_lon.append(\"NaN\")\n",
    "        #temp.append(\"NaN\")\n",
    "        #hum.append(\"NaN\")\n",
    "        #cloud.append(\"NaN\")\n",
    "        #wind.append(\"NaN\")\n",
    "    \n",
    "#print(f\"The latitude information received is: {real_lat}\")\n",
    "#print(f\"The longitude information received is: {real_lon}\")\n",
    "#print(f\"The temperature information received is: {temp}\")\n",
    "#print(f\"The humidity information received is: {hum}\")\n",
    "#print(f\"The cloudiness information received is: {cloud}\")\n",
    "#print(f\"The wind speed information received is: {wind}\")\n",
    "\n",
    "\n"
   ]
  },
  {
   "cell_type": "code",
   "execution_count": 12,
   "metadata": {},
   "outputs": [
    {
     "data": {
      "text/html": [
       "<div>\n",
       "<style>\n",
       "    .dataframe thead tr:only-child th {\n",
       "        text-align: right;\n",
       "    }\n",
       "\n",
       "    .dataframe thead th {\n",
       "        text-align: left;\n",
       "    }\n",
       "\n",
       "    .dataframe tbody tr th {\n",
       "        vertical-align: top;\n",
       "    }\n",
       "</style>\n",
       "<table border=\"1\" class=\"dataframe\">\n",
       "  <thead>\n",
       "    <tr style=\"text-align: right;\">\n",
       "      <th></th>\n",
       "      <th>city</th>\n",
       "      <th>cloudiness</th>\n",
       "      <th>country code</th>\n",
       "      <th>humidity</th>\n",
       "      <th>lat</th>\n",
       "      <th>lon</th>\n",
       "      <th>temp</th>\n",
       "      <th>wind speed</th>\n",
       "    </tr>\n",
       "  </thead>\n",
       "  <tbody>\n",
       "    <tr>\n",
       "      <th>0</th>\n",
       "      <td>thaton</td>\n",
       "      <td>24</td>\n",
       "      <td>mm</td>\n",
       "      <td>98</td>\n",
       "      <td>16.91</td>\n",
       "      <td>97.37</td>\n",
       "      <td>79.47</td>\n",
       "      <td>2.71</td>\n",
       "    </tr>\n",
       "    <tr>\n",
       "      <th>1</th>\n",
       "      <td>hakkari</td>\n",
       "      <td>40</td>\n",
       "      <td>tr</td>\n",
       "      <td>86</td>\n",
       "      <td>61.34</td>\n",
       "      <td>23.75</td>\n",
       "      <td>26.60</td>\n",
       "      <td>9.17</td>\n",
       "    </tr>\n",
       "    <tr>\n",
       "      <th>2</th>\n",
       "      <td>kodiak</td>\n",
       "      <td>90</td>\n",
       "      <td>us</td>\n",
       "      <td>92</td>\n",
       "      <td>39.95</td>\n",
       "      <td>-94.76</td>\n",
       "      <td>32.00</td>\n",
       "      <td>12.75</td>\n",
       "    </tr>\n",
       "    <tr>\n",
       "      <th>3</th>\n",
       "      <td>port hedland</td>\n",
       "      <td>0</td>\n",
       "      <td>au</td>\n",
       "      <td>83</td>\n",
       "      <td>-20.31</td>\n",
       "      <td>118.58</td>\n",
       "      <td>78.80</td>\n",
       "      <td>8.05</td>\n",
       "    </tr>\n",
       "    <tr>\n",
       "      <th>4</th>\n",
       "      <td>east london</td>\n",
       "      <td>76</td>\n",
       "      <td>za</td>\n",
       "      <td>98</td>\n",
       "      <td>-33.02</td>\n",
       "      <td>27.91</td>\n",
       "      <td>75.15</td>\n",
       "      <td>12.21</td>\n",
       "    </tr>\n",
       "  </tbody>\n",
       "</table>\n",
       "</div>"
      ],
      "text/plain": [
       "           city  cloudiness country code  humidity    lat     lon   temp  \\\n",
       "0        thaton          24           mm        98  16.91   97.37  79.47   \n",
       "1       hakkari          40           tr        86  61.34   23.75  26.60   \n",
       "2        kodiak          90           us        92  39.95  -94.76  32.00   \n",
       "3  port hedland           0           au        83 -20.31  118.58  78.80   \n",
       "4   east london          76           za        98 -33.02   27.91  75.15   \n",
       "\n",
       "   wind speed  \n",
       "0        2.71  \n",
       "1        9.17  \n",
       "2       12.75  \n",
       "3        8.05  \n",
       "4       12.21  "
      ]
     },
     "execution_count": 12,
     "metadata": {},
     "output_type": "execute_result"
    }
   ],
   "source": [
    "weather_dict = {\n",
    "    \"city\": city_list,\n",
    "    \"country code\": country_list,\n",
    "    \"lat\": real_lat,\n",
    "    \"lon\": real_lon,\n",
    "    \"temp\": temp,\n",
    "    \"humidity\": hum,\n",
    "    \"cloudiness\": cloud,\n",
    "    \"wind speed\": wind\n",
    "}\n",
    "weather_data = pd.DataFrame(weather_dict)\n",
    "weather_data.head()"
   ]
  },
  {
   "cell_type": "code",
   "execution_count": 13,
   "metadata": {},
   "outputs": [
    {
     "data": {
      "image/png": "[encoded data removed]",
      "text/plain": [
       "<matplotlib.figure.Figure at 0x10a3f1a58>"
      ]
     },
     "metadata": {},
     "output_type": "display_data"
    }
   ],
   "source": [
    "# Build a scatter plot for temp, hum, cloud, wind vs lat\n",
    "plt.scatter(weather_data[\"lat\"], weather_data[\"temp\"], marker=\"o\")\n",
    "\n",
    "# Incorporate the other graph properties\n",
    "plt.title(\"Temperature in World Cities\")\n",
    "plt.ylabel(\"Temperature (Fahrenheit)\")\n",
    "plt.xlabel(\"Latitude\")\n",
    "plt.grid(True)\n",
    "plt.xlim(-90, 90)\n",
    "plt.ylim(-35, 100)\n",
    "\n",
    "# Save the figure\n",
    "plt.savefig(\"TemperatureInWorldCities.png\")\n",
    "\n",
    "# Show plot\n",
    "plt.show()"
   ]
  },
  {
   "cell_type": "code",
   "execution_count": 14,
   "metadata": {},
   "outputs": [
    {
     "data": {
      "image/png": "[encoded data removed]",
      "text/plain": [
       "<matplotlib.figure.Figure at 0x10fc69160>"
      ]
     },
     "metadata": {},
     "output_type": "display_data"
    }
   ],
   "source": [
    "plt.scatter(weather_data[\"lat\"], weather_data[\"humidity\"], marker=\"o\")\n",
    "\n",
    "# Incorporate the other graph properties\n",
    "plt.title(\"Humidity in World Cities\")\n",
    "plt.ylabel(\"Humidity (%)\")\n",
    "plt.xlabel(\"Latitude\")\n",
    "plt.grid(True)\n",
    "plt.xlim(-90, 90)\n",
    "plt.ylim(0, 110)\n",
    "\n",
    "# Save the figure\n",
    "plt.savefig(\"HumidityInWorldCities.png\")\n",
    "\n",
    "# Show plot\n",
    "plt.show()"
   ]
  },
  {
   "cell_type": "code",
   "execution_count": 15,
   "metadata": {},
   "outputs": [
    {
     "data": {
      "image/png": "[encoded data removed]",
      "text/plain": [
       "<matplotlib.figure.Figure at 0x1133c0d68>"
      ]
     },
     "metadata": {},
     "output_type": "display_data"
    }
   ],
   "source": [
    "plt.scatter(weather_data[\"lat\"], weather_data[\"cloudiness\"], marker=\"o\")\n",
    "\n",
    "# Incorporate the other graph properties\n",
    "plt.title(\"Cloudiness in World Cities\")\n",
    "plt.ylabel(\"Cloudiness (%)\")\n",
    "plt.xlabel(\"Latitude\")\n",
    "plt.grid(True)\n",
    "plt.xlim(-90, 90)\n",
    "plt.ylim(-5, 100)\n",
    "\n",
    "# Save the figure\n",
    "plt.savefig(\"CloudinessInWorldCities.png\")\n",
    "\n",
    "# Show plot\n",
    "plt.show()"
   ]
  },
  {
   "cell_type": "code",
   "execution_count": 16,
   "metadata": {},
   "outputs": [
    {
     "data": {
      "image/png": "[encoded data removed]",
      "text/plain": [
       "<matplotlib.figure.Figure at 0x1133f5c18>"
      ]
     },
     "metadata": {},
     "output_type": "display_data"
    }
   ],
   "source": [
    "plt.scatter(weather_data[\"lat\"], weather_data[\"wind speed\"], marker=\"o\")\n",
    "\n",
    "# Incorporate the other graph properties\n",
    "plt.title(\"Wind Speed in World Cities\")\n",
    "plt.ylabel(\"Wind Speed (mph)\")\n",
    "plt.xlabel(\"Latitude\")\n",
    "plt.grid(True)\n",
    "plt.xlim(-90, 90)\n",
    "plt.ylim(0, 60)\n",
    "\n",
    "# Save the figure\n",
    "plt.savefig(\"WindSpeedInWorldCities.png\")\n",
    "\n",
    "# Show plot\n",
    "plt.show()"
   ]
  },
  {
   "cell_type": "code",
   "execution_count": 17,
   "metadata": {
    "collapsed": true
   },
   "outputs": [],
   "source": [
    "#Soo... the script above runs fine... sometimes. Sometimes, I get a \"coord\" error in the for loop when I ping \n",
    "#the Openweather API, almost as though sometimes the API doesn't recognize some of the cities generated. I tried to \n",
    "#write a try/except for this so that it places Nan in the list if the API doesn't find a coordinate for a city, but\n",
    "#that didn't seem to work for me. I've saved the code here to show that it can and does run... it just doesn't always\n",
    "#run like this. I'd love to go over how to best debug this."
   ]
  },
  {
   "cell_type": "code",
   "execution_count": null,
   "metadata": {
    "collapsed": true
   },
   "outputs": [],
   "source": [
    "#Observable trends:\n",
    "#1. The closer the latitude to zero, the higher the temp. (Duh.)\n",
    "#2. Need larger city size to see trends for the others..."
   ]
  }
 ],
 "metadata": {
  "kernelspec": {
   "display_name": "Python 3",
   "language": "python",
   "name": "python3"
  },
  "language_info": {
   "codemirror_mode": {
    "name": "ipython",
    "version": 3
   },
   "file_extension": ".py",
   "mimetype": "text/x-python",
   "name": "python",
   "nbconvert_exporter": "python",
   "pygments_lexer": "ipython3",
   "version": "3.6.3"
  }
 },
 "nbformat": 4,
 "nbformat_minor": 2
}
